{
 "cells": [
  {
   "cell_type": "code",
   "execution_count": 23,
   "metadata": {},
   "outputs": [],
   "source": [
    "import sys\n",
    "import pdb\n",
    "# sys.path.insert allows us to define paths from where we can import .py files\n",
    "#sys.path.insert(0, 'D://Users//jvdputte//Documents//Work//Educational//5LSM0//jupyter_scripts//assets') \n",
    "sys.path.insert(0, 'C://Users//s141010//Documents//school//master//CNN//assets')\n",
    "import mnist\n",
    "import numpy as np\n",
    "import matplotlib.pyplot as plt"
   ]
  },
  {
   "cell_type": "markdown",
   "metadata": {},
   "source": [
    "We will load the mnist dataset just as in assignment 1"
   ]
  },
  {
   "cell_type": "code",
   "execution_count": 24,
   "metadata": {},
   "outputs": [],
   "source": [
    "X_train, y_train, X_test, y_test = mnist.load()"
   ]
  },
  {
   "cell_type": "markdown",
   "metadata": {},
   "source": [
    "Lets plot some examples of the handwritten digits"
   ]
  },
  {
   "cell_type": "code",
   "execution_count": 25,
   "metadata": {},
   "outputs": [
    {
     "data": {
      "image/png": "[encoded data removed]",
      "text/plain": [
       "<Figure size 432x288 with 10 Axes>"
      ]
     },
     "metadata": {},
     "output_type": "display_data"
    }
   ],
   "source": [
    "fig, ax = plt.subplots(nrows=2, ncols=5, sharex=True, sharey=True,)\n",
    "ax = ax.flatten()\n",
    "for i in range(10):\n",
    "    img = X_train[y_train == i][0].reshape(28, 28)\n",
    "    ax[i].imshow(img, cmap='Greys')\n",
    "\n",
    "ax[0].set_xticks([])\n",
    "ax[0].set_yticks([])\n",
    "plt.tight_layout()\n",
    "plt.show()"
   ]
  },
  {
   "cell_type": "markdown",
   "metadata": {},
   "source": [
    "Lets look at what different samples of the same digit looks like. You can change the label to look at other examples."
   ]
  },
  {
   "cell_type": "code",
   "execution_count": 26,
   "metadata": {},
   "outputs": [
    {
     "data": {
      "image/png": "[encoded data removed]",
      "text/plain": [
       "<Figure size 432x288 with 25 Axes>"
      ]
     },
     "metadata": {},
     "output_type": "display_data"
    }
   ],
   "source": [
    "fig, ax = plt.subplots(nrows=5, ncols=5, sharex=True, sharey=True,)\n",
    "ax = ax.flatten()\n",
    "for i in range(25):\n",
    "    img = X_train[y_train == 5][i].reshape(28, 28) # change the label to look at other digits\n",
    "    ax[i].imshow(img, cmap='Greys')\n",
    "\n",
    "ax[0].set_xticks([])\n",
    "ax[0].set_yticks([])\n",
    "plt.tight_layout()\n",
    "# plt.savefig('images/12_6.png', dpi=300)\n",
    "plt.show()"
   ]
  },
  {
   "cell_type": "markdown",
   "metadata": {},
   "source": [
    "### Q1. Evaluate several examples of the digits. Name three data-augmentation operations that make sense for this data set.\n",
    "\n",
    "<span style=\"color:red\">''' it would not be stange to think that these numbers are written with a different color pen, paper or different pressure. Thus the color and the brightness of the image could be changed. Different structre paper could be imitaded by noise (whit a small grain) or bubbely filters. '''</span>."
   ]
  },
  {
   "cell_type": "markdown",
   "metadata": {},
   "source": [
    "## Multi-layer perceptron\n",
    "In this section we are going to implement our own multi-layer perceptron, including backpropagation. Carefully read all the hints in the code. The supplementary file will elaborate more on the details of the algorithm."
   ]
  },
  {
   "cell_type": "code",
   "execution_count": 70,
   "metadata": {},
   "outputs": [],
   "source": [
    "import numpy as np\n",
    "import sys\n",
    "\n",
    "\n",
    "class NeuralNetMLP(object):\n",
    "    \"\"\" Feedforward neural network / Multi-layer perceptron classifier.\n",
    "\n",
    "    Parameters\n",
    "    ------------\n",
    "    n_hidden : int (default: 30)\n",
    "        Number of hidden units.\n",
    "    l2 : float (default: 0.)\n",
    "        Lambda value for L2-regularization.\n",
    "        No regularization if l2=0. (default)\n",
    "    epochs : int (default: 100)\n",
    "        Number of passes over the training set.\n",
    "    eta : float (default: 0.001)\n",
    "        Learning rate.\n",
    "    shuffle : bool (default: True)\n",
    "        Shuffles training data every epoch if True to prevent circles.\n",
    "    minibatch_size : int (default: 1)\n",
    "        Number of training samples per minibatch.\n",
    "    seed : int (default: None)\n",
    "        Random seed for initalizing weights and shuffling.\n",
    "\n",
    "    Attributes\n",
    "    -----------\n",
    "    eval_ : dict\n",
    "      Dictionary collecting the cost, training accuracy,\n",
    "      and validation accuracy for each epoch during training.\n",
    "\n",
    "    \"\"\"\n",
    "    def __init__(self, n_hidden=30,\n",
    "                 l2=0., epochs=100, eta=0.001,\n",
    "                 shuffle=True, minibatch_size=1, seed=None):\n",
    "\n",
    "        self.random = np.random.RandomState(seed)\n",
    "        self.n_hidden = n_hidden\n",
    "        self.l2 = l2\n",
    "        self.epochs = epochs\n",
    "        self.eta = eta\n",
    "        self.shuffle = shuffle\n",
    "        self.minibatch_size = minibatch_size\n",
    "    \n",
    "    # the onehot function encodes labels into onehot representation e.g. with 3 labels, 0->[1,0,0], 1->[0,1,0], 2->[0,0,1]\n",
    "    def _onehot(self, y, n_classes):\n",
    "        \"\"\"Encode labels into one-hot representation\n",
    "\n",
    "        Parameters\n",
    "        ------------\n",
    "        y : array, shape = [n_samples]\n",
    "            Target values.\n",
    "\n",
    "        Returns\n",
    "        -----------\n",
    "        onehot : array, shape = (n_samples, n_labels)\n",
    "\n",
    "        \"\"\"\n",
    "        onehot = np.zeros((n_classes, y.shape[0]))\n",
    "        for idx, val in enumerate(y.astype(int)):\n",
    "            onehot[val, idx] = 1.\n",
    "        return onehot.T\n",
    "\n",
    "    def _sigmoid(self, z):\n",
    "        \"\"\"Compute logistic function (sigmoid)\"\"\"\n",
    "        sigmoid= 1/(1+np.exp(-z))        \n",
    "        return sigmoid\n",
    "\n",
    "    def _forward(self, X):\n",
    "        \"\"\"Compute forward propagation step\"\"\"\n",
    "\n",
    "        # step 1: net input of hidden layer\n",
    "        # [n_samples, n_features] dot [n_features, n_hidden]-> [n_samples, n_hidden]\n",
    "        z_h=np.dot(X,self.w_h)\n",
    " \n",
    "        # step 2: activation of hidden layer\n",
    "        a_h=self._sigmoid(z_h)\n",
    "\n",
    "        # step 3: net input of output layer\n",
    "        # [n_samples, n_hidden] dot [n_hidden, n_classlabels]\n",
    "        # -> [n_samples, n_classlabels]\n",
    "        z_out=np.dot(a_h,self.w_out)\n",
    "\n",
    "        # step 4: activation output layer\n",
    "        a_out=self._sigmoid(z_out)\n",
    "\n",
    "        return z_h, a_h, z_out, a_out\n",
    "\n",
    "    def _compute_cost(self, y_enc, output):\n",
    "        \"\"\"Compute cost function.\n",
    "\n",
    "        Parameters\n",
    "        ----------\n",
    "        y_enc : array, shape = (n_samples, n_labels)\n",
    "            one-hot encoded class labels.\n",
    "        output : array, shape = [n_samples, n_output_units]\n",
    "            Activation of the output layer (forward propagation)\n",
    "\n",
    "        Returns\n",
    "        ---------\n",
    "        cost : float\n",
    "            Regularized cost\n",
    "\n",
    "        \"\"\"\n",
    "        \n",
    "        cost = -np.sum(y_enc*np.log(output)+(1-y_enc)*np.log(1-output))\n",
    "        cost = cost_temp+self.l2*np.sum(np.square(self.w_out))\n",
    "\n",
    "        return cost\n",
    "\n",
    "    def predict(self, X):\n",
    "        \"\"\"Predict class labels\n",
    "\n",
    "        Parameters\n",
    "        -----------\n",
    "        X : array, shape = [n_samples, n_features]\n",
    "            Input layer with original features.\n",
    "\n",
    "        Returns:\n",
    "        ----------\n",
    "        y_pred : array, shape = [n_samples]\n",
    "            Predicted class labels.\n",
    "\n",
    "        \"\"\"\n",
    "        z_h, a_h, z_out, a_out=self._forward(X)\n",
    "        y_pred=np.argmax(a_out, axis=1)\n",
    "        return y_pred\n",
    "\n",
    "    def fit(self, X_train, y_train, X_valid, y_valid):\n",
    "        \"\"\" Learn weights from training data.\n",
    "\n",
    "        Parameters\n",
    "        -----------\n",
    "        X_train : array, shape = [n_samples, n_features]\n",
    "            Input layer with original features.\n",
    "        y_train : array, shape = [n_samples]\n",
    "            Target class labels.\n",
    "        X_valid : array, shape = [n_samples, n_features]\n",
    "            Sample features for validation during training\n",
    "        y_valid : array, shape = [n_samples]\n",
    "            Sample labels for validation during training\n",
    "\n",
    "        Returns:\n",
    "        ----------\n",
    "        self\n",
    "\n",
    "        \"\"\"\n",
    "        n_output = np.unique(y_train).shape[0]  # number of class labels\n",
    "        n_features = X_train.shape[1]\n",
    "        \n",
    "        ########################\n",
    "        # Weight initialization\n",
    "        ########################\n",
    "\n",
    "        # weights for input -> hidden\n",
    "        self.b_h = np.zeros(self.n_hidden)\n",
    "        self.w_h = self.random.normal(loc=0.0, scale=0.1,\n",
    "                                      size=(n_features, self.n_hidden))\n",
    "\n",
    "        # weights for hidden -> output\n",
    "        self.b_out = np.zeros(n_output)\n",
    "        self.w_out = self.random.normal(loc=0.0, scale=0.1,\n",
    "                                        size=(self.n_hidden, n_output))\n",
    "        \n",
    "        # create dictionary to keep track of training scores\n",
    "        self.eval_ = {'cost': [], 'train_acc': [], 'valid_acc': []}\n",
    "        \n",
    "        # convert y to one-hot encoding\n",
    "        y_train_enc = self._onehot(y_train, n_output)\n",
    "\n",
    "        # iterate over training epochs\n",
    "        for i in range(self.epochs):\n",
    "\n",
    "            # iterate over minibatches\n",
    "            indices = np.arange(X_train.shape[0])\n",
    "\n",
    "            if self.shuffle:\n",
    "                self.random.shuffle(indices)\n",
    "            \n",
    "            # this for loop takes care of the batching process. Every iteration several samples are fed through the network in one go.\n",
    "            for start_idx in range(0, indices.shape[0] - self.minibatch_size + 1, self.minibatch_size):\n",
    "                batch_idx = indices[start_idx:start_idx + self.minibatch_size]\n",
    "\n",
    "                # forward propagation\n",
    "                z_h, a_h, z_out, a_out = self._forward(X_train[batch_idx])\n",
    "\n",
    "                ##################\n",
    "                # Backpropagation\n",
    "                ##################\n",
    "\n",
    "                # calculate error vector of the output layer: sigma_out, [n_samples, n_classlabels]\n",
    "                sigma_out=a_out-y_train_enc[batch_idx]\n",
    "                \n",
    "                \n",
    "                # calculate derivative of the sigmoid activation function:\n",
    "                # sigmoid_derivative_h, [n_samples, n_hidden]\n",
    "                sigmoid_derivative_h=np.multiply(a_h, (1-a_h))\n",
    "                \n",
    "                # Calculate the error term of the hidden layer: sigma_h, \n",
    "                #[n_samples, n_classlabels] dot [n_classlabels, n_hidden] -> [n_samples, n_hidden]\n",
    "                sigma_h=np.multiply(np.dot(sigma_out,np.transpose(self.w_out)),sigmoid_derivative_h)\n",
    "\n",
    "                # Calculate the gradients of the weights in the hidden layer\n",
    "                # [n_features, n_samples] dot [n_samples, n_hidden] -> [n_features, n_hidden]\n",
    "                grad_w_h=np.dot(np.transpose(X_train[batch_idx]),sigma_h)\n",
    "                \n",
    "                # calculate gradients of the biases in the hidden layer (freebee)\n",
    "                grad_b_h = np.sum(sigma_h, axis=0)#/len(batch_idx)\n",
    "\n",
    "                # Calculate the gradients of the weights in the output layer\n",
    "                # [n_hidden, n_samples] dot [n_samples, n_classlabels] -> [n_hidden, n_classlabels]\n",
    "                grad_w_out=np.dot(a_h,sigma_out) \n",
    "                \n",
    "                # calculate the gradient of the biases in the output layer\n",
    "                grad_b_out = np.sum(sigma_out, axis=0)\n",
    "\n",
    "                # Regularization and weight updates\n",
    "                delta_w_h = (grad_w_h + self.l2*self.w_h)\n",
    "                delta_b_h = grad_b_h # bias is not regularized\n",
    "                self.w_h -= self.eta * delta_w_h\n",
    "                self.b_h -= self.eta * delta_b_h\n",
    "\n",
    "                delta_w_out = (grad_w_out + self.l2*self.w_out)\n",
    "                delta_b_out = grad_b_out  # bias is not regularized\n",
    "                self.w_out -= self.eta * delta_w_out\n",
    "                self.b_out -= self.eta * delta_b_out\n",
    "\n",
    "            #############\n",
    "            # Evaluation\n",
    "            #############\n",
    "\n",
    "            # Evaluation after each epoch during training\n",
    "            z_h, a_h, z_out, a_out = self._forward(X_train)\n",
    "            \n",
    "            cost = self._compute_cost(y_enc=y_train_enc,\n",
    "                                      output=a_out)\n",
    "            \n",
    "            y_train_pred = self.predict(X_train)\n",
    "            y_valid_pred = self.predict(X_valid)\n",
    "\n",
    "            train_acc = ((np.sum(y_train == y_train_pred)).astype(np.float) /X_train.shape[0])\n",
    "            valid_acc = ((np.sum(y_valid == y_valid_pred)).astype(np.float) /X_valid.shape[0])\n",
    "\n",
    "            sys.stderr.write('\\r' + '{}/{} | Cost: {:.1f} | Train/Valid Acc.: {:.2f}%/{:.2f}% '.format(i+1, self.epochs, cost,\n",
    "                              train_acc*100, valid_acc*100))\n",
    "            sys.stderr.flush()\n",
    "\n",
    "            self.eval_['cost'].append(cost)\n",
    "            self.eval_['train_acc'].append(train_acc)\n",
    "            self.eval_['valid_acc'].append(valid_acc)\n",
    "\n",
    "        return self"
   ]
  },
  {
   "cell_type": "markdown",
   "metadata": {},
   "source": [
    "Lets initialize the network and feed it training and validation data (55000 samples are used for training, remaining 5000 samples are used for validation).\n",
    "### Q2. Why do we define a validation set even though we already have a test set of unseen samples? Explain your answer.\n",
    "<span style=\"color:red\">''' Write down the answer in the cell markdown here (doubleclick the text)  '''</span>."
   ]
  },
  {
   "cell_type": "code",
   "execution_count": 71,
   "metadata": {
    "scrolled": true
   },
   "outputs": [
    {
     "name": "stdout",
     "output_type": "stream",
     "text": [
      "98966.75697164824\n"
     ]
    },
    {
     "name": "stderr",
     "output_type": "stream",
     "text": [
      "\r",
      "1/20 | Cost: 98966.8 | Train/Valid Acc.: 78.54%/81.28% "
     ]
    },
    {
     "name": "stdout",
     "output_type": "stream",
     "text": [
      "84846.99749887011\n"
     ]
    },
    {
     "name": "stderr",
     "output_type": "stream",
     "text": [
      "\r",
      "2/20 | Cost: 84847.0 | Train/Valid Acc.: 83.70%/86.07% "
     ]
    },
    {
     "name": "stdout",
     "output_type": "stream",
     "text": [
      "76235.97525924783\n"
     ]
    },
    {
     "name": "stderr",
     "output_type": "stream",
     "text": [
      "\r",
      "3/20 | Cost: 76236.0 | Train/Valid Acc.: 85.80%/87.99% "
     ]
    },
    {
     "name": "stdout",
     "output_type": "stream",
     "text": [
      "70620.88483368837\n"
     ]
    },
    {
     "name": "stderr",
     "output_type": "stream",
     "text": [
      "\r",
      "4/20 | Cost: 70620.9 | Train/Valid Acc.: 87.09%/89.15% "
     ]
    },
    {
     "name": "stdout",
     "output_type": "stream",
     "text": [
      "66234.30495281894\n"
     ]
    },
    {
     "name": "stderr",
     "output_type": "stream",
     "text": [
      "\r",
      "5/20 | Cost: 66234.3 | Train/Valid Acc.: 88.12%/89.74% "
     ]
    },
    {
     "name": "stdout",
     "output_type": "stream",
     "text": [
      "63406.800127295195\n"
     ]
    },
    {
     "name": "stderr",
     "output_type": "stream",
     "text": [
      "\r",
      "6/20 | Cost: 63406.8 | Train/Valid Acc.: 88.23%/89.75% "
     ]
    },
    {
     "name": "stdout",
     "output_type": "stream",
     "text": [
      "60735.0116031823\n"
     ]
    },
    {
     "name": "stderr",
     "output_type": "stream",
     "text": [
      "\r",
      "7/20 | Cost: 60735.0 | Train/Valid Acc.: 88.85%/90.41% "
     ]
    },
    {
     "name": "stdout",
     "output_type": "stream",
     "text": [
      "58383.570647918765\n"
     ]
    },
    {
     "name": "stderr",
     "output_type": "stream",
     "text": [
      "\r",
      "8/20 | Cost: 58383.6 | Train/Valid Acc.: 89.24%/90.58% "
     ]
    },
    {
     "name": "stdout",
     "output_type": "stream",
     "text": [
      "56261.91665272183\n"
     ]
    },
    {
     "name": "stderr",
     "output_type": "stream",
     "text": [
      "\r",
      "9/20 | Cost: 56261.9 | Train/Valid Acc.: 89.76%/91.00% "
     ]
    },
    {
     "name": "stdout",
     "output_type": "stream",
     "text": [
      "54025.276185575516\n"
     ]
    },
    {
     "name": "stderr",
     "output_type": "stream",
     "text": [
      "\r",
      "10/20 | Cost: 54025.3 | Train/Valid Acc.: 89.96%/91.14% "
     ]
    },
    {
     "name": "stdout",
     "output_type": "stream",
     "text": [
      "52229.67946367466\n"
     ]
    },
    {
     "name": "stderr",
     "output_type": "stream",
     "text": [
      "\r",
      "11/20 | Cost: 52229.7 | Train/Valid Acc.: 90.32%/91.19% "
     ]
    },
    {
     "name": "stdout",
     "output_type": "stream",
     "text": [
      "51059.91495111147\n"
     ]
    },
    {
     "name": "stderr",
     "output_type": "stream",
     "text": [
      "\r",
      "12/20 | Cost: 51059.9 | Train/Valid Acc.: 90.32%/91.61% "
     ]
    },
    {
     "name": "stdout",
     "output_type": "stream",
     "text": [
      "49612.869444526055\n"
     ]
    },
    {
     "name": "stderr",
     "output_type": "stream",
     "text": [
      "\r",
      "13/20 | Cost: 49612.9 | Train/Valid Acc.: 90.36%/91.11% "
     ]
    },
    {
     "name": "stdout",
     "output_type": "stream",
     "text": [
      "48445.69006895679\n"
     ]
    },
    {
     "name": "stderr",
     "output_type": "stream",
     "text": [
      "\r",
      "14/20 | Cost: 48445.7 | Train/Valid Acc.: 90.80%/91.70% "
     ]
    },
    {
     "name": "stdout",
     "output_type": "stream",
     "text": [
      "47387.61760725558\n"
     ]
    },
    {
     "name": "stderr",
     "output_type": "stream",
     "text": [
      "\r",
      "15/20 | Cost: 47387.6 | Train/Valid Acc.: 90.89%/91.68% "
     ]
    },
    {
     "name": "stdout",
     "output_type": "stream",
     "text": [
      "46530.44361680211\n"
     ]
    },
    {
     "name": "stderr",
     "output_type": "stream",
     "text": [
      "\r",
      "16/20 | Cost: 46530.4 | Train/Valid Acc.: 90.95%/91.74% "
     ]
    },
    {
     "name": "stdout",
     "output_type": "stream",
     "text": [
      "45412.76810580326\n"
     ]
    },
    {
     "name": "stderr",
     "output_type": "stream",
     "text": [
      "\r",
      "17/20 | Cost: 45412.8 | Train/Valid Acc.: 91.02%/91.59% "
     ]
    },
    {
     "name": "stdout",
     "output_type": "stream",
     "text": [
      "44838.932463739366\n"
     ]
    },
    {
     "name": "stderr",
     "output_type": "stream",
     "text": [
      "\r",
      "18/20 | Cost: 44838.9 | Train/Valid Acc.: 91.21%/91.88% "
     ]
    },
    {
     "name": "stdout",
     "output_type": "stream",
     "text": [
      "43894.99758167296\n"
     ]
    },
    {
     "name": "stderr",
     "output_type": "stream",
     "text": [
      "\r",
      "19/20 | Cost: 43895.0 | Train/Valid Acc.: 91.33%/91.96% "
     ]
    },
    {
     "name": "stdout",
     "output_type": "stream",
     "text": [
      "42802.305918559054\n"
     ]
    },
    {
     "name": "stderr",
     "output_type": "stream",
     "text": [
      "\r",
      "20/20 | Cost: 42802.3 | Train/Valid Acc.: 91.47%/92.09% "
     ]
    },
    {
     "data": {
      "text/plain": [
       "<__main__.NeuralNetMLP at 0x9a806b3240>"
      ]
     },
     "execution_count": 71,
     "metadata": {},
     "output_type": "execute_result"
    }
   ],
   "source": [
    "nn = NeuralNetMLP(n_hidden=100, \n",
    "                  l2=0.0001, \n",
    "                  epochs=20, \n",
    "                  eta=0.0005,\n",
    "                  minibatch_size=100, \n",
    "                  shuffle=True,\n",
    "                  seed=1)\n",
    "\n",
    "nn.fit(X_train=X_train[:50000], \n",
    "       y_train=y_train[:50000],\n",
    "       X_valid=X_train[50000:],\n",
    "       y_valid=y_train[50000:])"
   ]
  },
  {
   "cell_type": "markdown",
   "metadata": {},
   "source": [
    "Lets plot the cost and the training/validation accuracy for 20 epochs. We can see the cost is decreasing and accuracy of both the training and validation is going up."
   ]
  },
  {
   "cell_type": "code",
   "execution_count": 72,
   "metadata": {},
   "outputs": [
    {
     "data": {
      "image/png": "[encoded data removed]",
      "text/plain": [
       "<Figure size 960x480 with 2 Axes>"
      ]
     },
     "metadata": {},
     "output_type": "display_data"
    }
   ],
   "source": [
    "fig=plt.figure(figsize=(12, 6), dpi= 80, facecolor='w', edgecolor='k')\n",
    "ax = plt.subplot(1,2,1)\n",
    "ax.plot(range(nn.epochs), nn.eval_['cost'])\n",
    "ax.set_ylabel('Cost')\n",
    "ax.set_xlabel('Epochs')\n",
    "\n",
    "ax = plt.subplot(1,2,2)\n",
    "ax.plot(range(nn.epochs), nn.eval_['train_acc'], \n",
    "         label='training')\n",
    "ax.plot(range(nn.epochs), nn.eval_['valid_acc'], \n",
    "         label='validation', linestyle='--')\n",
    "ax.set_ylabel('Accuracy')\n",
    "ax.set_xlabel('Epochs')\n",
    "ax.legend()\n",
    "plt.show()\n"
   ]
  },
  {
   "cell_type": "markdown",
   "metadata": {},
   "source": [
    "## Q3. The validation accuracy is higher than the training accuracy. What does this say about the quality of the model?\n",
    "<span style=\"color:red\">''' Write down the answer in the cell markdown here (doubleclick the text)  '''</span>."
   ]
  },
  {
   "cell_type": "code",
   "execution_count": 73,
   "metadata": {},
   "outputs": [
    {
     "name": "stdout",
     "output_type": "stream",
     "text": [
      "96419.66917385503\n"
     ]
    },
    {
     "name": "stderr",
     "output_type": "stream",
     "text": [
      "\r",
      "1/200 | Cost: 96419.7 | Train/Valid Acc.: 81.11%/83.50% "
     ]
    },
    {
     "name": "stdout",
     "output_type": "stream",
     "text": [
      "81560.1681220989\n"
     ]
    },
    {
     "name": "stderr",
     "output_type": "stream",
     "text": [
      "\r",
      "2/200 | Cost: 81560.2 | Train/Valid Acc.: 84.85%/86.65% "
     ]
    },
    {
     "name": "stdout",
     "output_type": "stream",
     "text": [
      "74860.22638259486\n"
     ]
    },
    {
     "name": "stderr",
     "output_type": "stream",
     "text": [
      "\r",
      "3/200 | Cost: 74860.2 | Train/Valid Acc.: 86.65%/88.27% "
     ]
    },
    {
     "name": "stdout",
     "output_type": "stream",
     "text": [
      "69681.71254873562\n"
     ]
    },
    {
     "name": "stderr",
     "output_type": "stream",
     "text": [
      "\r",
      "4/200 | Cost: 69681.7 | Train/Valid Acc.: 87.49%/88.92% "
     ]
    },
    {
     "name": "stdout",
     "output_type": "stream",
     "text": [
      "65666.70776169676\n"
     ]
    },
    {
     "name": "stderr",
     "output_type": "stream",
     "text": [
      "\r",
      "5/200 | Cost: 65666.7 | Train/Valid Acc.: 88.09%/89.34% "
     ]
    },
    {
     "name": "stdout",
     "output_type": "stream",
     "text": [
      "61784.54128324941\n"
     ]
    },
    {
     "name": "stderr",
     "output_type": "stream",
     "text": [
      "\r",
      "6/200 | Cost: 61784.5 | Train/Valid Acc.: 88.76%/89.87% "
     ]
    },
    {
     "name": "stdout",
     "output_type": "stream",
     "text": [
      "59714.51182985868\n"
     ]
    },
    {
     "name": "stderr",
     "output_type": "stream",
     "text": [
      "\r",
      "7/200 | Cost: 59714.5 | Train/Valid Acc.: 88.80%/89.96% "
     ]
    },
    {
     "name": "stdout",
     "output_type": "stream",
     "text": [
      "56550.96351043902\n"
     ]
    },
    {
     "name": "stderr",
     "output_type": "stream",
     "text": [
      "\r",
      "8/200 | Cost: 56551.0 | Train/Valid Acc.: 89.18%/90.31% "
     ]
    },
    {
     "name": "stdout",
     "output_type": "stream",
     "text": [
      "54334.2526418648\n"
     ]
    },
    {
     "name": "stderr",
     "output_type": "stream",
     "text": [
      "\r",
      "9/200 | Cost: 54334.3 | Train/Valid Acc.: 89.58%/90.84% "
     ]
    },
    {
     "name": "stdout",
     "output_type": "stream",
     "text": [
      "52633.4882082632\n"
     ]
    },
    {
     "name": "stderr",
     "output_type": "stream",
     "text": [
      "\r",
      "10/200 | Cost: 52633.5 | Train/Valid Acc.: 89.94%/90.93% "
     ]
    },
    {
     "name": "stdout",
     "output_type": "stream",
     "text": [
      "51119.77672332963\n"
     ]
    },
    {
     "name": "stderr",
     "output_type": "stream",
     "text": [
      "\r",
      "11/200 | Cost: 51119.8 | Train/Valid Acc.: 90.08%/91.00% "
     ]
    },
    {
     "name": "stdout",
     "output_type": "stream",
     "text": [
      "49505.12648260733\n"
     ]
    },
    {
     "name": "stderr",
     "output_type": "stream",
     "text": [
      "\r",
      "12/200 | Cost: 49505.1 | Train/Valid Acc.: 90.14%/91.09% "
     ]
    },
    {
     "name": "stdout",
     "output_type": "stream",
     "text": [
      "48183.41305407254\n"
     ]
    },
    {
     "name": "stderr",
     "output_type": "stream",
     "text": [
      "\r",
      "13/200 | Cost: 48183.4 | Train/Valid Acc.: 90.37%/91.19% "
     ]
    },
    {
     "name": "stdout",
     "output_type": "stream",
     "text": [
      "46979.43849945503\n"
     ]
    },
    {
     "name": "stderr",
     "output_type": "stream",
     "text": [
      "\r",
      "14/200 | Cost: 46979.4 | Train/Valid Acc.: 90.45%/91.17% "
     ]
    },
    {
     "name": "stdout",
     "output_type": "stream",
     "text": [
      "46275.43821479168\n"
     ]
    },
    {
     "name": "stderr",
     "output_type": "stream",
     "text": [
      "\r",
      "15/200 | Cost: 46275.4 | Train/Valid Acc.: 90.60%/91.55% "
     ]
    },
    {
     "name": "stdout",
     "output_type": "stream",
     "text": [
      "45244.996525517985\n"
     ]
    },
    {
     "name": "stderr",
     "output_type": "stream",
     "text": [
      "\r",
      "16/200 | Cost: 45245.0 | Train/Valid Acc.: 90.74%/91.71% "
     ]
    },
    {
     "name": "stdout",
     "output_type": "stream",
     "text": [
      "43872.462443579294\n"
     ]
    },
    {
     "name": "stderr",
     "output_type": "stream",
     "text": [
      "\r",
      "17/200 | Cost: 43872.5 | Train/Valid Acc.: 90.96%/91.74% "
     ]
    },
    {
     "name": "stdout",
     "output_type": "stream",
     "text": [
      "43061.91728597358\n"
     ]
    },
    {
     "name": "stderr",
     "output_type": "stream",
     "text": [
      "\r",
      "18/200 | Cost: 43061.9 | Train/Valid Acc.: 91.00%/91.71% "
     ]
    },
    {
     "name": "stdout",
     "output_type": "stream",
     "text": [
      "41947.22516947433\n"
     ]
    },
    {
     "name": "stderr",
     "output_type": "stream",
     "text": [
      "\r",
      "19/200 | Cost: 41947.2 | Train/Valid Acc.: 91.18%/92.05% "
     ]
    },
    {
     "name": "stdout",
     "output_type": "stream",
     "text": [
      "41495.57935459253\n"
     ]
    },
    {
     "name": "stderr",
     "output_type": "stream",
     "text": [
      "\r",
      "20/200 | Cost: 41495.6 | Train/Valid Acc.: 91.03%/91.87% "
     ]
    },
    {
     "name": "stdout",
     "output_type": "stream",
     "text": [
      "40879.41146418945\n"
     ]
    },
    {
     "name": "stderr",
     "output_type": "stream",
     "text": [
      "\r",
      "21/200 | Cost: 40879.4 | Train/Valid Acc.: 91.28%/92.17% "
     ]
    },
    {
     "name": "stdout",
     "output_type": "stream",
     "text": [
      "40308.23103771691\n"
     ]
    },
    {
     "name": "stderr",
     "output_type": "stream",
     "text": [
      "\r",
      "22/200 | Cost: 40308.2 | Train/Valid Acc.: 91.32%/92.06% "
     ]
    },
    {
     "name": "stdout",
     "output_type": "stream",
     "text": [
      "39546.25383314306\n"
     ]
    },
    {
     "name": "stderr",
     "output_type": "stream",
     "text": [
      "\r",
      "23/200 | Cost: 39546.3 | Train/Valid Acc.: 91.47%/92.37% "
     ]
    },
    {
     "name": "stdout",
     "output_type": "stream",
     "text": [
      "38977.5190080926\n"
     ]
    },
    {
     "name": "stderr",
     "output_type": "stream",
     "text": [
      "\r",
      "24/200 | Cost: 38977.5 | Train/Valid Acc.: 91.55%/92.17% "
     ]
    },
    {
     "name": "stdout",
     "output_type": "stream",
     "text": [
      "38399.18703774951\n"
     ]
    },
    {
     "name": "stderr",
     "output_type": "stream",
     "text": [
      "\r",
      "25/200 | Cost: 38399.2 | Train/Valid Acc.: 91.68%/92.36% "
     ]
    },
    {
     "name": "stdout",
     "output_type": "stream",
     "text": [
      "37943.41034624177\n"
     ]
    },
    {
     "name": "stderr",
     "output_type": "stream",
     "text": [
      "\r",
      "26/200 | Cost: 37943.4 | Train/Valid Acc.: 91.85%/92.56% "
     ]
    },
    {
     "name": "stdout",
     "output_type": "stream",
     "text": [
      "37554.01584009838\n"
     ]
    },
    {
     "name": "stderr",
     "output_type": "stream",
     "text": [
      "\r",
      "27/200 | Cost: 37554.0 | Train/Valid Acc.: 91.72%/92.45% "
     ]
    },
    {
     "name": "stdout",
     "output_type": "stream",
     "text": [
      "37314.155308094785\n"
     ]
    },
    {
     "name": "stderr",
     "output_type": "stream",
     "text": [
      "\r",
      "28/200 | Cost: 37314.2 | Train/Valid Acc.: 91.77%/92.22% "
     ]
    },
    {
     "name": "stdout",
     "output_type": "stream",
     "text": [
      "36347.551567403156\n"
     ]
    },
    {
     "name": "stderr",
     "output_type": "stream",
     "text": [
      "\r",
      "29/200 | Cost: 36347.6 | Train/Valid Acc.: 91.91%/92.35% "
     ]
    },
    {
     "name": "stdout",
     "output_type": "stream",
     "text": [
      "35863.109673164996\n"
     ]
    },
    {
     "name": "stderr",
     "output_type": "stream",
     "text": [
      "\r",
      "30/200 | Cost: 35863.1 | Train/Valid Acc.: 92.22%/92.55% "
     ]
    },
    {
     "name": "stdout",
     "output_type": "stream",
     "text": [
      "35515.908264766294\n"
     ]
    },
    {
     "name": "stderr",
     "output_type": "stream",
     "text": [
      "\r",
      "31/200 | Cost: 35515.9 | Train/Valid Acc.: 91.99%/92.54% "
     ]
    },
    {
     "name": "stdout",
     "output_type": "stream",
     "text": [
      "35139.262711766205\n"
     ]
    },
    {
     "name": "stderr",
     "output_type": "stream",
     "text": [
      "\r",
      "32/200 | Cost: 35139.3 | Train/Valid Acc.: 92.05%/92.62% "
     ]
    },
    {
     "name": "stdout",
     "output_type": "stream",
     "text": [
      "34764.43031682126\n"
     ]
    },
    {
     "name": "stderr",
     "output_type": "stream",
     "text": [
      "\r",
      "33/200 | Cost: 34764.4 | Train/Valid Acc.: 92.21%/92.81% "
     ]
    },
    {
     "name": "stdout",
     "output_type": "stream",
     "text": [
      "34733.366782216086\n"
     ]
    },
    {
     "name": "stderr",
     "output_type": "stream",
     "text": [
      "\r",
      "34/200 | Cost: 34733.4 | Train/Valid Acc.: 92.12%/92.66% "
     ]
    },
    {
     "name": "stdout",
     "output_type": "stream",
     "text": [
      "34175.43503683638\n"
     ]
    },
    {
     "name": "stderr",
     "output_type": "stream",
     "text": [
      "\r",
      "35/200 | Cost: 34175.4 | Train/Valid Acc.: 92.23%/92.75% "
     ]
    },
    {
     "name": "stdout",
     "output_type": "stream",
     "text": [
      "33712.75123994805\n"
     ]
    },
    {
     "name": "stderr",
     "output_type": "stream",
     "text": [
      "\r",
      "36/200 | Cost: 33712.8 | Train/Valid Acc.: 92.30%/92.73% "
     ]
    },
    {
     "name": "stdout",
     "output_type": "stream",
     "text": [
      "33690.286223024676\n"
     ]
    },
    {
     "name": "stderr",
     "output_type": "stream",
     "text": [
      "\r",
      "37/200 | Cost: 33690.3 | Train/Valid Acc.: 92.30%/92.96% "
     ]
    },
    {
     "name": "stdout",
     "output_type": "stream",
     "text": [
      "33134.38798437732\n"
     ]
    },
    {
     "name": "stderr",
     "output_type": "stream",
     "text": [
      "\r",
      "38/200 | Cost: 33134.4 | Train/Valid Acc.: 92.39%/92.79% "
     ]
    },
    {
     "name": "stdout",
     "output_type": "stream",
     "text": [
      "32767.856417931645\n"
     ]
    },
    {
     "name": "stderr",
     "output_type": "stream",
     "text": [
      "\r",
      "39/200 | Cost: 32767.9 | Train/Valid Acc.: 92.42%/92.89% "
     ]
    },
    {
     "name": "stdout",
     "output_type": "stream",
     "text": [
      "32401.952389047226\n"
     ]
    },
    {
     "name": "stderr",
     "output_type": "stream",
     "text": [
      "\r",
      "40/200 | Cost: 32402.0 | Train/Valid Acc.: 92.58%/92.91% "
     ]
    },
    {
     "name": "stdout",
     "output_type": "stream",
     "text": [
      "32504.453379876464\n"
     ]
    },
    {
     "name": "stderr",
     "output_type": "stream",
     "text": [
      "\r",
      "41/200 | Cost: 32504.5 | Train/Valid Acc.: 92.48%/93.00% "
     ]
    },
    {
     "name": "stdout",
     "output_type": "stream",
     "text": [
      "32374.121976418883\n"
     ]
    },
    {
     "name": "stderr",
     "output_type": "stream",
     "text": [
      "\r",
      "42/200 | Cost: 32374.1 | Train/Valid Acc.: 92.47%/93.00% "
     ]
    },
    {
     "name": "stdout",
     "output_type": "stream",
     "text": [
      "31855.304782957766\n"
     ]
    },
    {
     "name": "stderr",
     "output_type": "stream",
     "text": [
      "\r",
      "43/200 | Cost: 31855.3 | Train/Valid Acc.: 92.59%/93.08% "
     ]
    },
    {
     "name": "stdout",
     "output_type": "stream",
     "text": [
      "31569.513791961635\n"
     ]
    },
    {
     "name": "stderr",
     "output_type": "stream",
     "text": [
      "\r",
      "44/200 | Cost: 31569.5 | Train/Valid Acc.: 92.56%/93.10% "
     ]
    },
    {
     "name": "stdout",
     "output_type": "stream",
     "text": [
      "31151.218133381815\n"
     ]
    },
    {
     "name": "stderr",
     "output_type": "stream",
     "text": [
      "\r",
      "45/200 | Cost: 31151.2 | Train/Valid Acc.: 92.67%/92.97% "
     ]
    },
    {
     "name": "stdout",
     "output_type": "stream",
     "text": [
      "31174.173900747806\n"
     ]
    },
    {
     "name": "stderr",
     "output_type": "stream",
     "text": [
      "\r",
      "46/200 | Cost: 31174.2 | Train/Valid Acc.: 92.67%/93.09% "
     ]
    },
    {
     "name": "stdout",
     "output_type": "stream",
     "text": [
      "30775.03911223561\n"
     ]
    },
    {
     "name": "stderr",
     "output_type": "stream",
     "text": [
      "\r",
      "47/200 | Cost: 30775.0 | Train/Valid Acc.: 92.60%/93.01% "
     ]
    },
    {
     "name": "stdout",
     "output_type": "stream",
     "text": [
      "30219.829463003003\n"
     ]
    },
    {
     "name": "stderr",
     "output_type": "stream",
     "text": [
      "\r",
      "48/200 | Cost: 30219.8 | Train/Valid Acc.: 92.87%/93.15% "
     ]
    },
    {
     "name": "stdout",
     "output_type": "stream",
     "text": [
      "30132.76283577806\n"
     ]
    },
    {
     "name": "stderr",
     "output_type": "stream",
     "text": [
      "\r",
      "49/200 | Cost: 30132.8 | Train/Valid Acc.: 92.89%/92.92% "
     ]
    },
    {
     "name": "stdout",
     "output_type": "stream",
     "text": [
      "29935.871540090626\n"
     ]
    },
    {
     "name": "stderr",
     "output_type": "stream",
     "text": [
      "\r",
      "50/200 | Cost: 29935.9 | Train/Valid Acc.: 92.89%/93.28% "
     ]
    },
    {
     "name": "stdout",
     "output_type": "stream",
     "text": [
      "29864.95026808172\n"
     ]
    },
    {
     "name": "stderr",
     "output_type": "stream",
     "text": [
      "\r",
      "51/200 | Cost: 29865.0 | Train/Valid Acc.: 92.88%/93.18% "
     ]
    },
    {
     "name": "stdout",
     "output_type": "stream",
     "text": [
      "29751.46481807412\n"
     ]
    },
    {
     "name": "stderr",
     "output_type": "stream",
     "text": [
      "\r",
      "52/200 | Cost: 29751.5 | Train/Valid Acc.: 92.87%/93.19% "
     ]
    },
    {
     "name": "stdout",
     "output_type": "stream",
     "text": [
      "29310.196425462615\n"
     ]
    },
    {
     "name": "stderr",
     "output_type": "stream",
     "text": [
      "\r",
      "53/200 | Cost: 29310.2 | Train/Valid Acc.: 93.07%/93.38% "
     ]
    },
    {
     "name": "stdout",
     "output_type": "stream",
     "text": [
      "29713.199568545802\n"
     ]
    },
    {
     "name": "stderr",
     "output_type": "stream",
     "text": [
      "\r",
      "54/200 | Cost: 29713.2 | Train/Valid Acc.: 92.96%/93.37% "
     ]
    },
    {
     "name": "stdout",
     "output_type": "stream",
     "text": [
      "29201.844887940977\n"
     ]
    },
    {
     "name": "stderr",
     "output_type": "stream",
     "text": [
      "\r",
      "55/200 | Cost: 29201.8 | Train/Valid Acc.: 93.08%/93.35% "
     ]
    },
    {
     "name": "stdout",
     "output_type": "stream",
     "text": [
      "28786.283186145305\n"
     ]
    },
    {
     "name": "stderr",
     "output_type": "stream",
     "text": [
      "\r",
      "56/200 | Cost: 28786.3 | Train/Valid Acc.: 93.22%/93.21% "
     ]
    },
    {
     "name": "stdout",
     "output_type": "stream",
     "text": [
      "28819.15320021831\n"
     ]
    },
    {
     "name": "stderr",
     "output_type": "stream",
     "text": [
      "\r",
      "57/200 | Cost: 28819.2 | Train/Valid Acc.: 93.06%/93.42% "
     ]
    },
    {
     "name": "stdout",
     "output_type": "stream",
     "text": [
      "28387.528107613547\n"
     ]
    },
    {
     "name": "stderr",
     "output_type": "stream",
     "text": [
      "\r",
      "58/200 | Cost: 28387.5 | Train/Valid Acc.: 93.27%/93.70% "
     ]
    },
    {
     "name": "stdout",
     "output_type": "stream",
     "text": [
      "28412.182092698153\n"
     ]
    },
    {
     "name": "stderr",
     "output_type": "stream",
     "text": [
      "\r",
      "59/200 | Cost: 28412.2 | Train/Valid Acc.: 93.23%/93.50% "
     ]
    },
    {
     "name": "stdout",
     "output_type": "stream",
     "text": [
      "28046.969993105486\n"
     ]
    },
    {
     "name": "stderr",
     "output_type": "stream",
     "text": [
      "\r",
      "60/200 | Cost: 28047.0 | Train/Valid Acc.: 93.27%/93.44% "
     ]
    },
    {
     "name": "stdout",
     "output_type": "stream",
     "text": [
      "28444.870771973514\n"
     ]
    },
    {
     "name": "stderr",
     "output_type": "stream",
     "text": [
      "\r",
      "61/200 | Cost: 28444.9 | Train/Valid Acc.: 93.23%/93.31% "
     ]
    },
    {
     "name": "stdout",
     "output_type": "stream",
     "text": [
      "28290.76986869061\n"
     ]
    },
    {
     "name": "stderr",
     "output_type": "stream",
     "text": [
      "\r",
      "62/200 | Cost: 28290.8 | Train/Valid Acc.: 93.20%/93.63% "
     ]
    },
    {
     "name": "stdout",
     "output_type": "stream",
     "text": [
      "27763.511537746635\n"
     ]
    },
    {
     "name": "stderr",
     "output_type": "stream",
     "text": [
      "\r",
      "63/200 | Cost: 27763.5 | Train/Valid Acc.: 93.36%/93.57% "
     ]
    },
    {
     "name": "stdout",
     "output_type": "stream",
     "text": [
      "27259.778074931157\n"
     ]
    },
    {
     "name": "stderr",
     "output_type": "stream",
     "text": [
      "\r",
      "64/200 | Cost: 27259.8 | Train/Valid Acc.: 93.39%/93.82% "
     ]
    },
    {
     "name": "stdout",
     "output_type": "stream",
     "text": [
      "27538.84953184894\n"
     ]
    },
    {
     "name": "stderr",
     "output_type": "stream",
     "text": [
      "\r",
      "65/200 | Cost: 27538.8 | Train/Valid Acc.: 93.26%/93.52% "
     ]
    },
    {
     "name": "stdout",
     "output_type": "stream",
     "text": [
      "27595.42079765978\n"
     ]
    },
    {
     "name": "stderr",
     "output_type": "stream",
     "text": [
      "\r",
      "66/200 | Cost: 27595.4 | Train/Valid Acc.: 93.36%/93.53% "
     ]
    },
    {
     "name": "stdout",
     "output_type": "stream",
     "text": [
      "26807.844423161787\n"
     ]
    },
    {
     "name": "stderr",
     "output_type": "stream",
     "text": [
      "\r",
      "67/200 | Cost: 26807.8 | Train/Valid Acc.: 93.44%/93.71% "
     ]
    },
    {
     "name": "stdout",
     "output_type": "stream",
     "text": [
      "27202.249327720136\n"
     ]
    },
    {
     "name": "stderr",
     "output_type": "stream",
     "text": [
      "\r",
      "68/200 | Cost: 27202.2 | Train/Valid Acc.: 93.35%/93.63% "
     ]
    },
    {
     "name": "stdout",
     "output_type": "stream",
     "text": [
      "26899.076540079426\n"
     ]
    },
    {
     "name": "stderr",
     "output_type": "stream",
     "text": [
      "\r",
      "69/200 | Cost: 26899.1 | Train/Valid Acc.: 93.38%/93.70% "
     ]
    },
    {
     "name": "stdout",
     "output_type": "stream",
     "text": [
      "26852.919082277404\n"
     ]
    },
    {
     "name": "stderr",
     "output_type": "stream",
     "text": [
      "\r",
      "70/200 | Cost: 26852.9 | Train/Valid Acc.: 93.45%/93.63% "
     ]
    },
    {
     "name": "stdout",
     "output_type": "stream",
     "text": [
      "26447.87188872744\n"
     ]
    },
    {
     "name": "stderr",
     "output_type": "stream",
     "text": [
      "\r",
      "71/200 | Cost: 26447.9 | Train/Valid Acc.: 93.52%/93.89% "
     ]
    },
    {
     "name": "stdout",
     "output_type": "stream",
     "text": [
      "26551.33059528394\n"
     ]
    },
    {
     "name": "stderr",
     "output_type": "stream",
     "text": [
      "\r",
      "72/200 | Cost: 26551.3 | Train/Valid Acc.: 93.41%/93.94% "
     ]
    },
    {
     "name": "stdout",
     "output_type": "stream",
     "text": [
      "26477.524013660717\n"
     ]
    },
    {
     "name": "stderr",
     "output_type": "stream",
     "text": [
      "\r",
      "73/200 | Cost: 26477.5 | Train/Valid Acc.: 93.54%/93.74% "
     ]
    },
    {
     "name": "stdout",
     "output_type": "stream",
     "text": [
      "26297.14635590577\n"
     ]
    },
    {
     "name": "stderr",
     "output_type": "stream",
     "text": [
      "\r",
      "74/200 | Cost: 26297.1 | Train/Valid Acc.: 93.58%/93.75% "
     ]
    },
    {
     "name": "stdout",
     "output_type": "stream",
     "text": [
      "26014.304658589765\n"
     ]
    },
    {
     "name": "stderr",
     "output_type": "stream",
     "text": [
      "\r",
      "75/200 | Cost: 26014.3 | Train/Valid Acc.: 93.58%/93.88% "
     ]
    },
    {
     "name": "stdout",
     "output_type": "stream",
     "text": [
      "25978.759660994947\n"
     ]
    },
    {
     "name": "stderr",
     "output_type": "stream",
     "text": [
      "\r",
      "76/200 | Cost: 25978.8 | Train/Valid Acc.: 93.69%/94.01% "
     ]
    },
    {
     "name": "stdout",
     "output_type": "stream",
     "text": [
      "25657.347766446397\n"
     ]
    },
    {
     "name": "stderr",
     "output_type": "stream",
     "text": [
      "\r",
      "77/200 | Cost: 25657.3 | Train/Valid Acc.: 93.74%/93.88% "
     ]
    },
    {
     "name": "stdout",
     "output_type": "stream",
     "text": [
      "25650.009631735327\n"
     ]
    },
    {
     "name": "stderr",
     "output_type": "stream",
     "text": [
      "\r",
      "78/200 | Cost: 25650.0 | Train/Valid Acc.: 93.69%/93.69% "
     ]
    },
    {
     "name": "stdout",
     "output_type": "stream",
     "text": [
      "26276.023155615432\n"
     ]
    },
    {
     "name": "stderr",
     "output_type": "stream",
     "text": [
      "\r",
      "79/200 | Cost: 26276.0 | Train/Valid Acc.: 93.64%/93.85% "
     ]
    },
    {
     "name": "stdout",
     "output_type": "stream",
     "text": [
      "25770.72614457563\n"
     ]
    },
    {
     "name": "stderr",
     "output_type": "stream",
     "text": [
      "\r",
      "80/200 | Cost: 25770.7 | Train/Valid Acc.: 93.68%/93.85% "
     ]
    },
    {
     "name": "stdout",
     "output_type": "stream",
     "text": [
      "25651.02633565422\n"
     ]
    },
    {
     "name": "stderr",
     "output_type": "stream",
     "text": [
      "\r",
      "81/200 | Cost: 25651.0 | Train/Valid Acc.: 93.75%/93.99% "
     ]
    },
    {
     "name": "stdout",
     "output_type": "stream",
     "text": [
      "25083.68065513922\n"
     ]
    },
    {
     "name": "stderr",
     "output_type": "stream",
     "text": [
      "\r",
      "82/200 | Cost: 25083.7 | Train/Valid Acc.: 93.82%/93.81% "
     ]
    },
    {
     "name": "stdout",
     "output_type": "stream",
     "text": [
      "25110.769187254245\n"
     ]
    },
    {
     "name": "stderr",
     "output_type": "stream",
     "text": [
      "\r",
      "83/200 | Cost: 25110.8 | Train/Valid Acc.: 93.81%/93.93% "
     ]
    },
    {
     "name": "stdout",
     "output_type": "stream",
     "text": [
      "25297.55773679212\n"
     ]
    },
    {
     "name": "stderr",
     "output_type": "stream",
     "text": [
      "\r",
      "84/200 | Cost: 25297.6 | Train/Valid Acc.: 93.84%/94.08% "
     ]
    },
    {
     "name": "stdout",
     "output_type": "stream",
     "text": [
      "24675.487387183708\n"
     ]
    },
    {
     "name": "stderr",
     "output_type": "stream",
     "text": [
      "\r",
      "85/200 | Cost: 24675.5 | Train/Valid Acc.: 93.93%/94.19% "
     ]
    },
    {
     "name": "stdout",
     "output_type": "stream",
     "text": [
      "24942.44159154967\n"
     ]
    },
    {
     "name": "stderr",
     "output_type": "stream",
     "text": [
      "\r",
      "86/200 | Cost: 24942.4 | Train/Valid Acc.: 93.83%/93.92% "
     ]
    },
    {
     "name": "stdout",
     "output_type": "stream",
     "text": [
      "24546.767823939495\n"
     ]
    },
    {
     "name": "stderr",
     "output_type": "stream",
     "text": [
      "\r",
      "87/200 | Cost: 24546.8 | Train/Valid Acc.: 93.95%/94.12% "
     ]
    },
    {
     "name": "stdout",
     "output_type": "stream",
     "text": [
      "24749.36260578769\n"
     ]
    },
    {
     "name": "stderr",
     "output_type": "stream",
     "text": [
      "\r",
      "88/200 | Cost: 24749.4 | Train/Valid Acc.: 93.81%/93.99% "
     ]
    },
    {
     "name": "stdout",
     "output_type": "stream",
     "text": [
      "24571.11380780766\n"
     ]
    },
    {
     "name": "stderr",
     "output_type": "stream",
     "text": [
      "\r",
      "89/200 | Cost: 24571.1 | Train/Valid Acc.: 93.87%/94.09% "
     ]
    },
    {
     "name": "stdout",
     "output_type": "stream",
     "text": [
      "24574.468979622066\n"
     ]
    },
    {
     "name": "stderr",
     "output_type": "stream",
     "text": [
      "\r",
      "90/200 | Cost: 24574.5 | Train/Valid Acc.: 93.95%/93.88% "
     ]
    },
    {
     "name": "stdout",
     "output_type": "stream",
     "text": [
      "24638.331587450724\n"
     ]
    },
    {
     "name": "stderr",
     "output_type": "stream",
     "text": [
      "\r",
      "91/200 | Cost: 24638.3 | Train/Valid Acc.: 93.85%/93.87% "
     ]
    },
    {
     "name": "stdout",
     "output_type": "stream",
     "text": [
      "24693.37873796316\n"
     ]
    },
    {
     "name": "stderr",
     "output_type": "stream",
     "text": [
      "\r",
      "92/200 | Cost: 24693.4 | Train/Valid Acc.: 93.79%/93.99% "
     ]
    },
    {
     "name": "stdout",
     "output_type": "stream",
     "text": [
      "24318.86090491754\n"
     ]
    },
    {
     "name": "stderr",
     "output_type": "stream",
     "text": [
      "\r",
      "93/200 | Cost: 24318.9 | Train/Valid Acc.: 93.96%/93.96% "
     ]
    },
    {
     "name": "stdout",
     "output_type": "stream",
     "text": [
      "24353.411105656203\n"
     ]
    },
    {
     "name": "stderr",
     "output_type": "stream",
     "text": [
      "\r",
      "94/200 | Cost: 24353.4 | Train/Valid Acc.: 93.83%/93.92% "
     ]
    },
    {
     "name": "stdout",
     "output_type": "stream",
     "text": [
      "24105.701716945376\n"
     ]
    },
    {
     "name": "stderr",
     "output_type": "stream",
     "text": [
      "\r",
      "95/200 | Cost: 24105.7 | Train/Valid Acc.: 93.93%/94.07% "
     ]
    },
    {
     "name": "stdout",
     "output_type": "stream",
     "text": [
      "24235.406996558624\n"
     ]
    },
    {
     "name": "stderr",
     "output_type": "stream",
     "text": [
      "\r",
      "96/200 | Cost: 24235.4 | Train/Valid Acc.: 93.89%/93.88% "
     ]
    },
    {
     "name": "stdout",
     "output_type": "stream",
     "text": [
      "23686.895181701213\n"
     ]
    },
    {
     "name": "stderr",
     "output_type": "stream",
     "text": [
      "\r",
      "97/200 | Cost: 23686.9 | Train/Valid Acc.: 94.02%/94.15% "
     ]
    },
    {
     "name": "stdout",
     "output_type": "stream",
     "text": [
      "23431.170928428703\n"
     ]
    },
    {
     "name": "stderr",
     "output_type": "stream",
     "text": [
      "\r",
      "98/200 | Cost: 23431.2 | Train/Valid Acc.: 94.07%/93.98% "
     ]
    },
    {
     "name": "stdout",
     "output_type": "stream",
     "text": [
      "23962.571279291802\n"
     ]
    },
    {
     "name": "stderr",
     "output_type": "stream",
     "text": [
      "\r",
      "99/200 | Cost: 23962.6 | Train/Valid Acc.: 93.95%/94.07% "
     ]
    },
    {
     "name": "stdout",
     "output_type": "stream",
     "text": [
      "23812.181291815024\n"
     ]
    },
    {
     "name": "stderr",
     "output_type": "stream",
     "text": [
      "\r",
      "100/200 | Cost: 23812.2 | Train/Valid Acc.: 94.07%/94.20% "
     ]
    },
    {
     "name": "stdout",
     "output_type": "stream",
     "text": [
      "23536.416416936827\n"
     ]
    },
    {
     "name": "stderr",
     "output_type": "stream",
     "text": [
      "\r",
      "101/200 | Cost: 23536.4 | Train/Valid Acc.: 94.12%/94.25% "
     ]
    },
    {
     "name": "stdout",
     "output_type": "stream",
     "text": [
      "23943.349235366328\n"
     ]
    },
    {
     "name": "stderr",
     "output_type": "stream",
     "text": [
      "\r",
      "102/200 | Cost: 23943.3 | Train/Valid Acc.: 93.93%/93.79% "
     ]
    },
    {
     "name": "stdout",
     "output_type": "stream",
     "text": [
      "23432.718177493076\n"
     ]
    },
    {
     "name": "stderr",
     "output_type": "stream",
     "text": [
      "\r",
      "103/200 | Cost: 23432.7 | Train/Valid Acc.: 94.19%/94.24% "
     ]
    },
    {
     "name": "stdout",
     "output_type": "stream",
     "text": [
      "23289.743096526196\n"
     ]
    },
    {
     "name": "stderr",
     "output_type": "stream",
     "text": [
      "\r",
      "104/200 | Cost: 23289.7 | Train/Valid Acc.: 94.08%/94.11% "
     ]
    },
    {
     "name": "stdout",
     "output_type": "stream",
     "text": [
      "23150.250706618055\n"
     ]
    },
    {
     "name": "stderr",
     "output_type": "stream",
     "text": [
      "\r",
      "105/200 | Cost: 23150.3 | Train/Valid Acc.: 94.12%/94.19% "
     ]
    },
    {
     "name": "stdout",
     "output_type": "stream",
     "text": [
      "23424.477732044863\n"
     ]
    },
    {
     "name": "stderr",
     "output_type": "stream",
     "text": [
      "\r",
      "106/200 | Cost: 23424.5 | Train/Valid Acc.: 94.09%/94.13% "
     ]
    },
    {
     "name": "stdout",
     "output_type": "stream",
     "text": [
      "22835.751804616237\n"
     ]
    },
    {
     "name": "stderr",
     "output_type": "stream",
     "text": [
      "\r",
      "107/200 | Cost: 22835.8 | Train/Valid Acc.: 94.22%/94.24% "
     ]
    },
    {
     "name": "stdout",
     "output_type": "stream",
     "text": [
      "22806.747200101443\n"
     ]
    },
    {
     "name": "stderr",
     "output_type": "stream",
     "text": [
      "\r",
      "108/200 | Cost: 22806.7 | Train/Valid Acc.: 94.23%/94.29% "
     ]
    },
    {
     "name": "stdout",
     "output_type": "stream",
     "text": [
      "22882.548621093745\n"
     ]
    },
    {
     "name": "stderr",
     "output_type": "stream",
     "text": [
      "\r",
      "109/200 | Cost: 22882.5 | Train/Valid Acc.: 94.19%/93.90% "
     ]
    },
    {
     "name": "stdout",
     "output_type": "stream",
     "text": [
      "22827.679963524886\n"
     ]
    },
    {
     "name": "stderr",
     "output_type": "stream",
     "text": [
      "\r",
      "110/200 | Cost: 22827.7 | Train/Valid Acc.: 94.20%/93.96% "
     ]
    },
    {
     "name": "stdout",
     "output_type": "stream",
     "text": [
      "22517.81166137911\n"
     ]
    },
    {
     "name": "stderr",
     "output_type": "stream",
     "text": [
      "\r",
      "111/200 | Cost: 22517.8 | Train/Valid Acc.: 94.20%/94.28% "
     ]
    },
    {
     "name": "stdout",
     "output_type": "stream",
     "text": [
      "22549.967200527724\n"
     ]
    },
    {
     "name": "stderr",
     "output_type": "stream",
     "text": [
      "\r",
      "112/200 | Cost: 22550.0 | Train/Valid Acc.: 94.28%/94.31% "
     ]
    },
    {
     "name": "stdout",
     "output_type": "stream",
     "text": [
      "22699.767058623678\n"
     ]
    },
    {
     "name": "stderr",
     "output_type": "stream",
     "text": [
      "\r",
      "113/200 | Cost: 22699.8 | Train/Valid Acc.: 94.22%/94.21% "
     ]
    },
    {
     "name": "stdout",
     "output_type": "stream",
     "text": [
      "22499.222325326926\n"
     ]
    },
    {
     "name": "stderr",
     "output_type": "stream",
     "text": [
      "\r",
      "114/200 | Cost: 22499.2 | Train/Valid Acc.: 94.35%/94.43% "
     ]
    },
    {
     "name": "stdout",
     "output_type": "stream",
     "text": [
      "22337.57414824462\n"
     ]
    },
    {
     "name": "stderr",
     "output_type": "stream",
     "text": [
      "\r",
      "115/200 | Cost: 22337.6 | Train/Valid Acc.: 94.33%/94.47% "
     ]
    },
    {
     "name": "stdout",
     "output_type": "stream",
     "text": [
      "22607.88766655797\n"
     ]
    },
    {
     "name": "stderr",
     "output_type": "stream",
     "text": [
      "\r",
      "116/200 | Cost: 22607.9 | Train/Valid Acc.: 94.26%/94.22% "
     ]
    },
    {
     "name": "stdout",
     "output_type": "stream",
     "text": [
      "22224.234191248528\n"
     ]
    },
    {
     "name": "stderr",
     "output_type": "stream",
     "text": [
      "\r",
      "117/200 | Cost: 22224.2 | Train/Valid Acc.: 94.32%/94.45% "
     ]
    },
    {
     "name": "stdout",
     "output_type": "stream",
     "text": [
      "22571.297928098444\n"
     ]
    },
    {
     "name": "stderr",
     "output_type": "stream",
     "text": [
      "\r",
      "118/200 | Cost: 22571.3 | Train/Valid Acc.: 94.31%/94.37% "
     ]
    },
    {
     "name": "stdout",
     "output_type": "stream",
     "text": [
      "22399.456363968475\n"
     ]
    },
    {
     "name": "stderr",
     "output_type": "stream",
     "text": [
      "\r",
      "119/200 | Cost: 22399.5 | Train/Valid Acc.: 94.29%/94.38% "
     ]
    },
    {
     "name": "stdout",
     "output_type": "stream",
     "text": [
      "22527.791178657404\n"
     ]
    },
    {
     "name": "stderr",
     "output_type": "stream",
     "text": [
      "\r",
      "120/200 | Cost: 22527.8 | Train/Valid Acc.: 94.29%/94.30% "
     ]
    },
    {
     "name": "stdout",
     "output_type": "stream",
     "text": [
      "22175.26490017964\n"
     ]
    },
    {
     "name": "stderr",
     "output_type": "stream",
     "text": [
      "\r",
      "121/200 | Cost: 22175.3 | Train/Valid Acc.: 94.38%/94.20% "
     ]
    },
    {
     "name": "stdout",
     "output_type": "stream",
     "text": [
      "21955.60792928438\n"
     ]
    },
    {
     "name": "stderr",
     "output_type": "stream",
     "text": [
      "\r",
      "122/200 | Cost: 21955.6 | Train/Valid Acc.: 94.35%/94.37% "
     ]
    },
    {
     "name": "stdout",
     "output_type": "stream",
     "text": [
      "21921.922945291408\n"
     ]
    },
    {
     "name": "stderr",
     "output_type": "stream",
     "text": [
      "\r",
      "123/200 | Cost: 21921.9 | Train/Valid Acc.: 94.49%/94.51% "
     ]
    },
    {
     "name": "stdout",
     "output_type": "stream",
     "text": [
      "22378.362368337224\n"
     ]
    },
    {
     "name": "stderr",
     "output_type": "stream",
     "text": [
      "\r",
      "124/200 | Cost: 22378.4 | Train/Valid Acc.: 94.39%/94.25% "
     ]
    },
    {
     "name": "stdout",
     "output_type": "stream",
     "text": [
      "21788.93932374047\n"
     ]
    },
    {
     "name": "stderr",
     "output_type": "stream",
     "text": [
      "\r",
      "125/200 | Cost: 21788.9 | Train/Valid Acc.: 94.44%/94.56% "
     ]
    },
    {
     "name": "stdout",
     "output_type": "stream",
     "text": [
      "21856.174723846405\n"
     ]
    },
    {
     "name": "stderr",
     "output_type": "stream",
     "text": [
      "\r",
      "126/200 | Cost: 21856.2 | Train/Valid Acc.: 94.41%/94.42% "
     ]
    },
    {
     "name": "stdout",
     "output_type": "stream",
     "text": [
      "21740.655591856845\n"
     ]
    },
    {
     "name": "stderr",
     "output_type": "stream",
     "text": [
      "\r",
      "127/200 | Cost: 21740.7 | Train/Valid Acc.: 94.41%/94.45% "
     ]
    },
    {
     "name": "stdout",
     "output_type": "stream",
     "text": [
      "21770.045278590937\n"
     ]
    },
    {
     "name": "stderr",
     "output_type": "stream",
     "text": [
      "\r",
      "128/200 | Cost: 21770.0 | Train/Valid Acc.: 94.44%/94.43% "
     ]
    },
    {
     "name": "stdout",
     "output_type": "stream",
     "text": [
      "21679.1666715403\n"
     ]
    },
    {
     "name": "stderr",
     "output_type": "stream",
     "text": [
      "\r",
      "129/200 | Cost: 21679.2 | Train/Valid Acc.: 94.47%/94.29% "
     ]
    },
    {
     "name": "stdout",
     "output_type": "stream",
     "text": [
      "21730.458289821447\n"
     ]
    },
    {
     "name": "stderr",
     "output_type": "stream",
     "text": [
      "\r",
      "130/200 | Cost: 21730.5 | Train/Valid Acc.: 94.40%/94.41% "
     ]
    },
    {
     "name": "stdout",
     "output_type": "stream",
     "text": [
      "21518.32495727872\n"
     ]
    },
    {
     "name": "stderr",
     "output_type": "stream",
     "text": [
      "\r",
      "131/200 | Cost: 21518.3 | Train/Valid Acc.: 94.47%/94.57% "
     ]
    },
    {
     "name": "stdout",
     "output_type": "stream",
     "text": [
      "21987.971184703187\n"
     ]
    },
    {
     "name": "stderr",
     "output_type": "stream",
     "text": [
      "\r",
      "132/200 | Cost: 21988.0 | Train/Valid Acc.: 94.31%/94.30% "
     ]
    },
    {
     "name": "stdout",
     "output_type": "stream",
     "text": [
      "21207.68782446569\n"
     ]
    },
    {
     "name": "stderr",
     "output_type": "stream",
     "text": [
      "\r",
      "133/200 | Cost: 21207.7 | Train/Valid Acc.: 94.60%/94.49% "
     ]
    },
    {
     "name": "stdout",
     "output_type": "stream",
     "text": [
      "21474.6314360873\n"
     ]
    },
    {
     "name": "stderr",
     "output_type": "stream",
     "text": [
      "\r",
      "134/200 | Cost: 21474.6 | Train/Valid Acc.: 94.42%/94.43% "
     ]
    },
    {
     "name": "stdout",
     "output_type": "stream",
     "text": [
      "21618.560800923613\n"
     ]
    },
    {
     "name": "stderr",
     "output_type": "stream",
     "text": [
      "\r",
      "135/200 | Cost: 21618.6 | Train/Valid Acc.: 94.52%/94.56% "
     ]
    },
    {
     "name": "stdout",
     "output_type": "stream",
     "text": [
      "21432.305426700004\n"
     ]
    },
    {
     "name": "stderr",
     "output_type": "stream",
     "text": [
      "\r",
      "136/200 | Cost: 21432.3 | Train/Valid Acc.: 94.55%/94.48% "
     ]
    },
    {
     "name": "stdout",
     "output_type": "stream",
     "text": [
      "21479.86813482552\n"
     ]
    },
    {
     "name": "stderr",
     "output_type": "stream",
     "text": [
      "\r",
      "137/200 | Cost: 21479.9 | Train/Valid Acc.: 94.47%/94.64% "
     ]
    },
    {
     "name": "stdout",
     "output_type": "stream",
     "text": [
      "21156.616600612404\n"
     ]
    },
    {
     "name": "stderr",
     "output_type": "stream",
     "text": [
      "\r",
      "138/200 | Cost: 21156.6 | Train/Valid Acc.: 94.63%/94.42% "
     ]
    },
    {
     "name": "stdout",
     "output_type": "stream",
     "text": [
      "21055.156466548324\n"
     ]
    },
    {
     "name": "stderr",
     "output_type": "stream",
     "text": [
      "\r",
      "139/200 | Cost: 21055.2 | Train/Valid Acc.: 94.66%/94.42% "
     ]
    },
    {
     "name": "stdout",
     "output_type": "stream",
     "text": [
      "21313.441385745213\n"
     ]
    },
    {
     "name": "stderr",
     "output_type": "stream",
     "text": [
      "\r",
      "140/200 | Cost: 21313.4 | Train/Valid Acc.: 94.61%/94.47% "
     ]
    },
    {
     "name": "stdout",
     "output_type": "stream",
     "text": [
      "20978.613079241255\n"
     ]
    },
    {
     "name": "stderr",
     "output_type": "stream",
     "text": [
      "\r",
      "141/200 | Cost: 20978.6 | Train/Valid Acc.: 94.72%/94.41% "
     ]
    },
    {
     "name": "stdout",
     "output_type": "stream",
     "text": [
      "21107.167830567923\n"
     ]
    },
    {
     "name": "stderr",
     "output_type": "stream",
     "text": [
      "\r",
      "142/200 | Cost: 21107.2 | Train/Valid Acc.: 94.64%/94.30% "
     ]
    },
    {
     "name": "stdout",
     "output_type": "stream",
     "text": [
      "21227.550906112625\n"
     ]
    },
    {
     "name": "stderr",
     "output_type": "stream",
     "text": [
      "\r",
      "143/200 | Cost: 21227.6 | Train/Valid Acc.: 94.65%/94.47% "
     ]
    },
    {
     "name": "stdout",
     "output_type": "stream",
     "text": [
      "20956.85311382473\n"
     ]
    },
    {
     "name": "stderr",
     "output_type": "stream",
     "text": [
      "\r",
      "144/200 | Cost: 20956.9 | Train/Valid Acc.: 94.61%/94.49% "
     ]
    },
    {
     "name": "stdout",
     "output_type": "stream",
     "text": [
      "21192.766275564612\n"
     ]
    },
    {
     "name": "stderr",
     "output_type": "stream",
     "text": [
      "\r",
      "145/200 | Cost: 21192.8 | Train/Valid Acc.: 94.59%/94.55% "
     ]
    },
    {
     "name": "stdout",
     "output_type": "stream",
     "text": [
      "20753.004604115675\n"
     ]
    },
    {
     "name": "stderr",
     "output_type": "stream",
     "text": [
      "\r",
      "146/200 | Cost: 20753.0 | Train/Valid Acc.: 94.74%/94.57% "
     ]
    },
    {
     "name": "stdout",
     "output_type": "stream",
     "text": [
      "20519.121863520402\n"
     ]
    },
    {
     "name": "stderr",
     "output_type": "stream",
     "text": [
      "\r",
      "147/200 | Cost: 20519.1 | Train/Valid Acc.: 94.81%/94.57% "
     ]
    },
    {
     "name": "stdout",
     "output_type": "stream",
     "text": [
      "20611.170452886905\n"
     ]
    },
    {
     "name": "stderr",
     "output_type": "stream",
     "text": [
      "\r",
      "148/200 | Cost: 20611.2 | Train/Valid Acc.: 94.73%/94.46% "
     ]
    },
    {
     "name": "stdout",
     "output_type": "stream",
     "text": [
      "20597.814618622157\n"
     ]
    },
    {
     "name": "stderr",
     "output_type": "stream",
     "text": [
      "\r",
      "149/200 | Cost: 20597.8 | Train/Valid Acc.: 94.79%/94.40% "
     ]
    },
    {
     "name": "stdout",
     "output_type": "stream",
     "text": [
      "20362.915883496833\n"
     ]
    },
    {
     "name": "stderr",
     "output_type": "stream",
     "text": [
      "\r",
      "150/200 | Cost: 20362.9 | Train/Valid Acc.: 94.79%/94.46% "
     ]
    },
    {
     "name": "stdout",
     "output_type": "stream",
     "text": [
      "20344.90825558778\n"
     ]
    },
    {
     "name": "stderr",
     "output_type": "stream",
     "text": [
      "\r",
      "151/200 | Cost: 20344.9 | Train/Valid Acc.: 94.76%/94.56% "
     ]
    },
    {
     "name": "stdout",
     "output_type": "stream",
     "text": [
      "20441.241728350742\n"
     ]
    },
    {
     "name": "stderr",
     "output_type": "stream",
     "text": [
      "\r",
      "152/200 | Cost: 20441.2 | Train/Valid Acc.: 94.71%/94.56% "
     ]
    },
    {
     "name": "stdout",
     "output_type": "stream",
     "text": [
      "20442.904609695397\n"
     ]
    },
    {
     "name": "stderr",
     "output_type": "stream",
     "text": [
      "\r",
      "153/200 | Cost: 20442.9 | Train/Valid Acc.: 94.88%/94.53% "
     ]
    },
    {
     "name": "stdout",
     "output_type": "stream",
     "text": [
      "20007.721403409585\n"
     ]
    },
    {
     "name": "stderr",
     "output_type": "stream",
     "text": [
      "\r",
      "154/200 | Cost: 20007.7 | Train/Valid Acc.: 94.91%/94.62% "
     ]
    },
    {
     "name": "stdout",
     "output_type": "stream",
     "text": [
      "20126.115305528758\n"
     ]
    },
    {
     "name": "stderr",
     "output_type": "stream",
     "text": [
      "\r",
      "155/200 | Cost: 20126.1 | Train/Valid Acc.: 94.89%/94.64% "
     ]
    },
    {
     "name": "stdout",
     "output_type": "stream",
     "text": [
      "20091.210625969714\n"
     ]
    },
    {
     "name": "stderr",
     "output_type": "stream",
     "text": [
      "\r",
      "156/200 | Cost: 20091.2 | Train/Valid Acc.: 95.00%/94.73% "
     ]
    },
    {
     "name": "stdout",
     "output_type": "stream",
     "text": [
      "20577.823466023296\n"
     ]
    },
    {
     "name": "stderr",
     "output_type": "stream",
     "text": [
      "\r",
      "157/200 | Cost: 20577.8 | Train/Valid Acc.: 94.72%/94.66% "
     ]
    },
    {
     "name": "stdout",
     "output_type": "stream",
     "text": [
      "19962.633319904846\n"
     ]
    },
    {
     "name": "stderr",
     "output_type": "stream",
     "text": [
      "\r",
      "158/200 | Cost: 19962.6 | Train/Valid Acc.: 94.86%/94.61% "
     ]
    },
    {
     "name": "stdout",
     "output_type": "stream",
     "text": [
      "19881.939337258387\n"
     ]
    },
    {
     "name": "stderr",
     "output_type": "stream",
     "text": [
      "\r",
      "159/200 | Cost: 19881.9 | Train/Valid Acc.: 94.93%/94.67% "
     ]
    },
    {
     "name": "stdout",
     "output_type": "stream",
     "text": [
      "19955.164865157316\n"
     ]
    },
    {
     "name": "stderr",
     "output_type": "stream",
     "text": [
      "\r",
      "160/200 | Cost: 19955.2 | Train/Valid Acc.: 94.97%/94.86% "
     ]
    },
    {
     "name": "stdout",
     "output_type": "stream",
     "text": [
      "19813.802588471433\n"
     ]
    },
    {
     "name": "stderr",
     "output_type": "stream",
     "text": [
      "\r",
      "161/200 | Cost: 19813.8 | Train/Valid Acc.: 95.01%/94.56% "
     ]
    },
    {
     "name": "stdout",
     "output_type": "stream",
     "text": [
      "19792.55380440109\n"
     ]
    },
    {
     "name": "stderr",
     "output_type": "stream",
     "text": [
      "\r",
      "162/200 | Cost: 19792.6 | Train/Valid Acc.: 95.01%/94.76% "
     ]
    },
    {
     "name": "stdout",
     "output_type": "stream",
     "text": [
      "19806.783380174285\n"
     ]
    },
    {
     "name": "stderr",
     "output_type": "stream",
     "text": [
      "\r",
      "163/200 | Cost: 19806.8 | Train/Valid Acc.: 95.02%/94.83% "
     ]
    },
    {
     "name": "stdout",
     "output_type": "stream",
     "text": [
      "19702.805439681266\n"
     ]
    },
    {
     "name": "stderr",
     "output_type": "stream",
     "text": [
      "\r",
      "164/200 | Cost: 19702.8 | Train/Valid Acc.: 94.97%/94.65% "
     ]
    },
    {
     "name": "stdout",
     "output_type": "stream",
     "text": [
      "19529.434128826808\n"
     ]
    },
    {
     "name": "stderr",
     "output_type": "stream",
     "text": [
      "\r",
      "165/200 | Cost: 19529.4 | Train/Valid Acc.: 95.01%/94.64% "
     ]
    },
    {
     "name": "stdout",
     "output_type": "stream",
     "text": [
      "19811.306075279645\n"
     ]
    },
    {
     "name": "stderr",
     "output_type": "stream",
     "text": [
      "\r",
      "166/200 | Cost: 19811.3 | Train/Valid Acc.: 95.00%/94.63% "
     ]
    },
    {
     "name": "stdout",
     "output_type": "stream",
     "text": [
      "20197.644001792014\n"
     ]
    },
    {
     "name": "stderr",
     "output_type": "stream",
     "text": [
      "\r",
      "167/200 | Cost: 20197.6 | Train/Valid Acc.: 94.75%/94.48% "
     ]
    },
    {
     "name": "stdout",
     "output_type": "stream",
     "text": [
      "19832.3448953088\n"
     ]
    },
    {
     "name": "stderr",
     "output_type": "stream",
     "text": [
      "\r",
      "168/200 | Cost: 19832.3 | Train/Valid Acc.: 94.82%/94.58% "
     ]
    },
    {
     "name": "stdout",
     "output_type": "stream",
     "text": [
      "19428.535736014288\n"
     ]
    },
    {
     "name": "stderr",
     "output_type": "stream",
     "text": [
      "\r",
      "169/200 | Cost: 19428.5 | Train/Valid Acc.: 95.04%/94.72% "
     ]
    },
    {
     "name": "stdout",
     "output_type": "stream",
     "text": [
      "19747.914115546653\n"
     ]
    },
    {
     "name": "stderr",
     "output_type": "stream",
     "text": [
      "\r",
      "170/200 | Cost: 19747.9 | Train/Valid Acc.: 94.96%/94.42% "
     ]
    },
    {
     "name": "stdout",
     "output_type": "stream",
     "text": [
      "19679.95359189552\n"
     ]
    },
    {
     "name": "stderr",
     "output_type": "stream",
     "text": [
      "\r",
      "171/200 | Cost: 19680.0 | Train/Valid Acc.: 94.89%/94.47% "
     ]
    },
    {
     "name": "stdout",
     "output_type": "stream",
     "text": [
      "19239.039326750633\n"
     ]
    },
    {
     "name": "stderr",
     "output_type": "stream",
     "text": [
      "\r",
      "172/200 | Cost: 19239.0 | Train/Valid Acc.: 94.97%/94.71% "
     ]
    },
    {
     "name": "stdout",
     "output_type": "stream",
     "text": [
      "19342.97775681783\n"
     ]
    },
    {
     "name": "stderr",
     "output_type": "stream",
     "text": [
      "\r",
      "173/200 | Cost: 19343.0 | Train/Valid Acc.: 95.05%/94.67% "
     ]
    },
    {
     "name": "stdout",
     "output_type": "stream",
     "text": [
      "19619.768043442335\n"
     ]
    },
    {
     "name": "stderr",
     "output_type": "stream",
     "text": [
      "\r",
      "174/200 | Cost: 19619.8 | Train/Valid Acc.: 95.03%/94.55% "
     ]
    },
    {
     "name": "stdout",
     "output_type": "stream",
     "text": [
      "19451.056892457582\n"
     ]
    },
    {
     "name": "stderr",
     "output_type": "stream",
     "text": [
      "\r",
      "175/200 | Cost: 19451.1 | Train/Valid Acc.: 95.08%/94.98% "
     ]
    },
    {
     "name": "stdout",
     "output_type": "stream",
     "text": [
      "19234.330938954256\n"
     ]
    },
    {
     "name": "stderr",
     "output_type": "stream",
     "text": [
      "\r",
      "176/200 | Cost: 19234.3 | Train/Valid Acc.: 95.07%/94.58% "
     ]
    },
    {
     "name": "stdout",
     "output_type": "stream",
     "text": [
      "19258.40427526981\n"
     ]
    },
    {
     "name": "stderr",
     "output_type": "stream",
     "text": [
      "\r",
      "177/200 | Cost: 19258.4 | Train/Valid Acc.: 95.08%/94.68% "
     ]
    },
    {
     "name": "stdout",
     "output_type": "stream",
     "text": [
      "19403.34322037305\n"
     ]
    },
    {
     "name": "stderr",
     "output_type": "stream",
     "text": [
      "\r",
      "178/200 | Cost: 19403.3 | Train/Valid Acc.: 95.01%/94.71% "
     ]
    },
    {
     "name": "stdout",
     "output_type": "stream",
     "text": [
      "19172.430200411996\n"
     ]
    },
    {
     "name": "stderr",
     "output_type": "stream",
     "text": [
      "\r",
      "179/200 | Cost: 19172.4 | Train/Valid Acc.: 95.03%/94.73% "
     ]
    },
    {
     "name": "stdout",
     "output_type": "stream",
     "text": [
      "18961.186826785128\n"
     ]
    },
    {
     "name": "stderr",
     "output_type": "stream",
     "text": [
      "\r",
      "180/200 | Cost: 18961.2 | Train/Valid Acc.: 95.13%/94.77% "
     ]
    },
    {
     "name": "stdout",
     "output_type": "stream",
     "text": [
      "18820.470001192847\n"
     ]
    },
    {
     "name": "stderr",
     "output_type": "stream",
     "text": [
      "\r",
      "181/200 | Cost: 18820.5 | Train/Valid Acc.: 95.12%/94.79% "
     ]
    },
    {
     "name": "stdout",
     "output_type": "stream",
     "text": [
      "18961.901559123435\n"
     ]
    },
    {
     "name": "stderr",
     "output_type": "stream",
     "text": [
      "\r",
      "182/200 | Cost: 18961.9 | Train/Valid Acc.: 95.19%/94.76% "
     ]
    },
    {
     "name": "stdout",
     "output_type": "stream",
     "text": [
      "18846.976047286877\n"
     ]
    },
    {
     "name": "stderr",
     "output_type": "stream",
     "text": [
      "\r",
      "183/200 | Cost: 18847.0 | Train/Valid Acc.: 95.16%/94.80% "
     ]
    },
    {
     "name": "stdout",
     "output_type": "stream",
     "text": [
      "18882.831616445335\n"
     ]
    },
    {
     "name": "stderr",
     "output_type": "stream",
     "text": [
      "\r",
      "184/200 | Cost: 18882.8 | Train/Valid Acc.: 95.13%/94.64% "
     ]
    },
    {
     "name": "stdout",
     "output_type": "stream",
     "text": [
      "19192.980905882425\n"
     ]
    },
    {
     "name": "stderr",
     "output_type": "stream",
     "text": [
      "\r",
      "185/200 | Cost: 19193.0 | Train/Valid Acc.: 95.06%/94.69% "
     ]
    },
    {
     "name": "stdout",
     "output_type": "stream",
     "text": [
      "18688.750061845585\n"
     ]
    },
    {
     "name": "stderr",
     "output_type": "stream",
     "text": [
      "\r",
      "186/200 | Cost: 18688.8 | Train/Valid Acc.: 95.23%/94.76% "
     ]
    },
    {
     "name": "stdout",
     "output_type": "stream",
     "text": [
      "18826.901361693497\n"
     ]
    },
    {
     "name": "stderr",
     "output_type": "stream",
     "text": [
      "\r",
      "187/200 | Cost: 18826.9 | Train/Valid Acc.: 95.17%/94.92% "
     ]
    },
    {
     "name": "stdout",
     "output_type": "stream",
     "text": [
      "18729.20893982849\n"
     ]
    },
    {
     "name": "stderr",
     "output_type": "stream",
     "text": [
      "\r",
      "188/200 | Cost: 18729.2 | Train/Valid Acc.: 95.18%/94.80% "
     ]
    },
    {
     "name": "stdout",
     "output_type": "stream",
     "text": [
      "18618.635682118358\n"
     ]
    },
    {
     "name": "stderr",
     "output_type": "stream",
     "text": [
      "\r",
      "189/200 | Cost: 18618.6 | Train/Valid Acc.: 95.29%/94.88% "
     ]
    },
    {
     "name": "stdout",
     "output_type": "stream",
     "text": [
      "18619.278788669668\n"
     ]
    },
    {
     "name": "stderr",
     "output_type": "stream",
     "text": [
      "\r",
      "190/200 | Cost: 18619.3 | Train/Valid Acc.: 95.19%/94.64% "
     ]
    },
    {
     "name": "stdout",
     "output_type": "stream",
     "text": [
      "18605.270388051646\n"
     ]
    },
    {
     "name": "stderr",
     "output_type": "stream",
     "text": [
      "\r",
      "191/200 | Cost: 18605.3 | Train/Valid Acc.: 95.21%/94.91% "
     ]
    },
    {
     "name": "stdout",
     "output_type": "stream",
     "text": [
      "18698.55540086822\n"
     ]
    },
    {
     "name": "stderr",
     "output_type": "stream",
     "text": [
      "\r",
      "192/200 | Cost: 18698.6 | Train/Valid Acc.: 95.22%/94.93% "
     ]
    },
    {
     "name": "stdout",
     "output_type": "stream",
     "text": [
      "18938.211192115818\n"
     ]
    },
    {
     "name": "stderr",
     "output_type": "stream",
     "text": [
      "\r",
      "193/200 | Cost: 18938.2 | Train/Valid Acc.: 95.09%/94.75% "
     ]
    },
    {
     "name": "stdout",
     "output_type": "stream",
     "text": [
      "18596.89564730289\n"
     ]
    },
    {
     "name": "stderr",
     "output_type": "stream",
     "text": [
      "\r",
      "194/200 | Cost: 18596.9 | Train/Valid Acc.: 95.19%/94.79% "
     ]
    },
    {
     "name": "stdout",
     "output_type": "stream",
     "text": [
      "18574.799771475842\n"
     ]
    },
    {
     "name": "stderr",
     "output_type": "stream",
     "text": [
      "\r",
      "195/200 | Cost: 18574.8 | Train/Valid Acc.: 95.22%/94.81% "
     ]
    },
    {
     "name": "stdout",
     "output_type": "stream",
     "text": [
      "18382.294939771287\n"
     ]
    },
    {
     "name": "stderr",
     "output_type": "stream",
     "text": [
      "\r",
      "196/200 | Cost: 18382.3 | Train/Valid Acc.: 95.22%/94.92% "
     ]
    },
    {
     "name": "stdout",
     "output_type": "stream",
     "text": [
      "18726.111442802096\n"
     ]
    },
    {
     "name": "stderr",
     "output_type": "stream",
     "text": [
      "\r",
      "197/200 | Cost: 18726.1 | Train/Valid Acc.: 95.09%/94.71% "
     ]
    },
    {
     "name": "stdout",
     "output_type": "stream",
     "text": [
      "18445.578101783663\n"
     ]
    },
    {
     "name": "stderr",
     "output_type": "stream",
     "text": [
      "\r",
      "198/200 | Cost: 18445.6 | Train/Valid Acc.: 95.29%/94.83% "
     ]
    },
    {
     "name": "stdout",
     "output_type": "stream",
     "text": [
      "18475.82444226249\n"
     ]
    },
    {
     "name": "stderr",
     "output_type": "stream",
     "text": [
      "\r",
      "199/200 | Cost: 18475.8 | Train/Valid Acc.: 95.31%/94.86% "
     ]
    },
    {
     "name": "stdout",
     "output_type": "stream",
     "text": [
      "18479.942059805107\n"
     ]
    },
    {
     "name": "stderr",
     "output_type": "stream",
     "text": [
      "\r",
      "200/200 | Cost: 18479.9 | Train/Valid Acc.: 95.29%/94.86% "
     ]
    },
    {
     "data": {
      "text/plain": [
       "<__main__.NeuralNetMLP at 0x9adbc590b8>"
      ]
     },
     "execution_count": 73,
     "metadata": {},
     "output_type": "execute_result"
    }
   ],
   "source": [
    "nn = NeuralNetMLP(n_hidden=100, \n",
    "                  l2=0.0001, \n",
    "                  epochs=200, \n",
    "                  eta=0.0005,\n",
    "                  minibatch_size=100, \n",
    "                  shuffle=True,\n",
    "                  seed=123)\n",
    "\n",
    "nn.fit(X_train=X_train[:50000], \n",
    "       y_train=y_train[:50000],\n",
    "       X_valid=X_train[50000:],\n",
    "       y_valid=y_train[50000:])"
   ]
  },
  {
   "cell_type": "code",
   "execution_count": 74,
   "metadata": {},
   "outputs": [
    {
     "data": {
      "image/png": "[encoded data removed]",
      "text/plain": [
       "<Figure size 960x480 with 2 Axes>"
      ]
     },
     "metadata": {},
     "output_type": "display_data"
    }
   ],
   "source": [
    "fig=plt.figure(figsize=(12, 6), dpi= 80, facecolor='w', edgecolor='k')\n",
    "ax = plt.subplot(1,2,1)\n",
    "ax.plot(range(nn.epochs), nn.eval_['cost'])\n",
    "ax.set_ylabel('Cost')\n",
    "ax.set_xlabel('Epochs')\n",
    "\n",
    "ax = plt.subplot(1,2,2)\n",
    "ax.plot(range(nn.epochs), nn.eval_['train_acc'], \n",
    "         label='training')\n",
    "ax.plot(range(nn.epochs), nn.eval_['valid_acc'], \n",
    "         label='validation', linestyle='--')\n",
    "ax.set_ylabel('Accuracy')\n",
    "ax.set_xlabel('Epochs')\n",
    "ax.legend()\n",
    "plt.show()"
   ]
  },
  {
   "cell_type": "markdown",
   "metadata": {},
   "source": [
    "## Q4. The neural network is getting pretty good results on the data. How would you improve on the results further?\n",
    "\n",
    "<span style=\"color:red\">''' Write down the answer in the cell markdown here (doubleclick the text)  '''</span>."
   ]
  }
 ],
 "metadata": {
  "kernelspec": {
   "display_name": "Python 3",
   "language": "python",
   "name": "python3"
  }
 },
 "nbformat": 4,
 "nbformat_minor": 2
}
